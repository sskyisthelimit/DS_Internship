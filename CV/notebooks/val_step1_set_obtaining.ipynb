{
  "cells": [
    {
      "cell_type": "code",
      "execution_count": null,
      "metadata": {
        "colab": {
          "base_uri": "https://localhost:8080/"
        },
        "id": "B80q6k4jZHV7",
        "outputId": "e2b1268d-37ed-47f9-8111-3f2c76346bea"
      },
      "outputs": [],
      "source": [
        "from google.colab import drive\n",
        "drive.mount('/content/drive')"
      ]
    },
    {
      "cell_type": "code",
      "execution_count": null,
      "metadata": {
        "colab": {
          "base_uri": "https://localhost:8080/"
        },
        "id": "9a19_8SQDKqa",
        "outputId": "45834d19-9c01-412f-c303-776864e69879"
      },
      "outputs": [],
      "source": [
        "!git clone https://github.com/sskyisthelimit/DS_Internship.git"
      ]
    },
    {
      "cell_type": "code",
      "execution_count": null,
      "metadata": {
        "colab": {
          "base_uri": "https://localhost:8080/"
        },
        "id": "xo3pihmzWB1R",
        "outputId": "46628dd3-9884-47fc-89a7-a23c2aa9d642"
      },
      "outputs": [],
      "source": [
        "%cd DS_Internship/CV/src/"
      ]
    },
    {
      "cell_type": "code",
      "execution_count": 3,
      "metadata": {
        "id": "It-yhvZ-WN1d"
      },
      "outputs": [],
      "source": [
        "from utils import Sentinel2Downloader, load_torch_image, split_image_and_save\n",
        "API_KEY = \"/content/drive/MyDrive/Datasets/MATCHING/image-matching-key.json\""
      ]
    },
    {
      "cell_type": "code",
      "execution_count": 7,
      "metadata": {
        "id": "MptOBgsVFWNB"
      },
      "outputs": [],
      "source": [
        "CONSTRAINTS = {'NODATA_PIXEL_PERCENTAGE': 15.0,\n",
        "               'CLOUDY_PIXEL_PERCENTAGE': 10.0, }\n",
        "\n",
        "loader = Sentinel2Downloader(api_key=API_KEY)\n",
        "\n",
        "loaded = loader.download(product_type=\"L2A\",\n",
        "                        tiles=[\"36TXS\"],\n",
        "                        start_date=\"2020-02-01\",\n",
        "                        end_date=\"2020-12-30\",\n",
        "                        output_dir=\"/content/sentinel2imagery\",\n",
        "                        bands=set([\"TCI\"]),\n",
        "                        cores=4,\n",
        "                        constraints=CONSTRAINTS)"
      ]
    },
    {
      "cell_type": "code",
      "execution_count": null,
      "metadata": {
        "colab": {
          "base_uri": "https://localhost:8080/"
        },
        "id": "XGFRKPiRNLNM",
        "outputId": "9513e56a-f633-4997-84ce-4b059d040c86"
      },
      "outputs": [],
      "source": [
        "import os\n",
        "\n",
        "images_num = 0\n",
        "image_names_dict = {}\n",
        "\n",
        "for dirname, _, filenames in os.walk('/content/sentinel2imagery'):\n",
        "    for filename in filenames:\n",
        "        if filename.endswith('_TCI_10m.jp2'):\n",
        "            images_num += 1\n",
        "            if dirname not in image_names_dict:\n",
        "                image_names_dict[dirname] = list()\n",
        "            image_names_dict[dirname].append(filename)\n",
        "\n",
        "print(images_num)\n",
        "print(len([*image_names_dict]))"
      ]
    },
    {
      "cell_type": "code",
      "execution_count": 9,
      "metadata": {
        "id": "-5oDmbgcxOZ1"
      },
      "outputs": [],
      "source": [
        "import os\n",
        "val_filenames = [\"/content/sentinel2imagery/S2B_MSIL2A_20200216T083929_N0214_R064_T36TXS_20200216T115323/T36TXS_20200216T083929_TCI_10m.jp2\",\n",
        "                 \"/content/sentinel2imagery/S2B_MSIL2A_20200824T083609_N0214_R064_T36TXS_20200824T112701/T36TXS_20200824T083609_TCI_10m.jp2\",\n",
        "                 \"/content/sentinel2imagery/S2A_MSIL2A_20200312T083731_N0214_R064_T36TXS_20200312T112715/T36TXS_20200312T083731_TCI_10m.jp2\",\n",
        "                 \"/content/sentinel2imagery/S2A_MSIL2A_20200501T083601_N0214_R064_T36TXS_20200501T113014/T36TXS_20200501T083601_TCI_10m.jp2\"]\n",
        "\n",
        "crop_height = 480\n",
        "crop_width = 640\n",
        "\n",
        "dataset_dir = \"/content/first_step_val_dataset\"\n",
        "os.makedirs(dataset_dir, exist_ok=True)\n",
        "\n",
        "val_dir = os.path.join(dataset_dir, \"val\")\n",
        "\n",
        "os.makedirs(val_dir, exist_ok=True)\n",
        "\n",
        "for dirname, _, filenames in os.walk('/content/sentinel2imagery'):\n",
        "    for filename in filenames:\n",
        "        if filename.endswith('_TCI_10m.jp2'):\n",
        "          basename = os.path.basename(filename)[:-4]\n",
        "          tilepath = os.path.join(dirname, filename)\n",
        "\n",
        "          if tilepath in val_filenames:\n",
        "            save_path = os.path.join(val_dir, basename)\n",
        "\n",
        "            image = load_torch_image(tilepath)\n",
        "\n",
        "            split_image_and_save(\n",
        "                image=image,\n",
        "                crop_h=crop_height,\n",
        "                crop_w=crop_width,\n",
        "                save_crops=True,\n",
        "                saving_path=save_path)\n",
        "\n",
        "\n"
      ]
    },
    {
      "cell_type": "code",
      "execution_count": null,
      "metadata": {
        "colab": {
          "base_uri": "https://localhost:8080/",
          "height": 35
        },
        "id": "nr4PAVmC4vTS",
        "outputId": "2803f673-7bce-48a3-ccd7-f5c650d07a97"
      },
      "outputs": [],
      "source": [
        "import shutil\n",
        "shutil.make_archive(\"/content/first_step_val_dataset\", \"zip\", \"/content/first_step_val_dataset/\")"
      ]
    },
    {
      "cell_type": "code",
      "execution_count": null,
      "metadata": {
        "id": "373JBW1apHJj"
      },
      "outputs": [],
      "source": []
    }
  ],
  "metadata": {
    "colab": {
      "provenance": []
    },
    "kernelspec": {
      "display_name": "Python 3",
      "name": "python3"
    },
    "language_info": {
      "name": "python"
    }
  },
  "nbformat": 4,
  "nbformat_minor": 0
}
