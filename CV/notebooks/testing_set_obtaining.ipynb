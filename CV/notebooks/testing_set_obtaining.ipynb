{
  "nbformat": 4,
  "nbformat_minor": 0,
  "metadata": {
    "colab": {
      "provenance": []
    },
    "kernelspec": {
      "name": "python3",
      "display_name": "Python 3"
    },
    "language_info": {
      "name": "python"
    }
  },
  "cells": [
    {
      "cell_type": "code",
      "source": [
        "!pip install git+https://github.com/QuantuMobileSoftware/sentinel2tools.git@ca232cb66106db6cac729defdab91aad9aecb15b"
      ],
      "metadata": {
        "colab": {
          "base_uri": "https://localhost:8080/"
        },
        "id": "spu_nfjmEqMr",
        "outputId": "6e33efa0-ea76-4707-fd7f-55252215af82"
      },
      "execution_count": 1,
      "outputs": [
        {
          "output_type": "stream",
          "name": "stdout",
          "text": [
            "Collecting git+https://github.com/QuantuMobileSoftware/sentinel2tools.git@ca232cb66106db6cac729defdab91aad9aecb15b\n",
            "  Cloning https://github.com/QuantuMobileSoftware/sentinel2tools.git (to revision ca232cb66106db6cac729defdab91aad9aecb15b) to /tmp/pip-req-build-pnnvmsuj\n",
            "  Running command git clone --filter=blob:none --quiet https://github.com/QuantuMobileSoftware/sentinel2tools.git /tmp/pip-req-build-pnnvmsuj\n",
            "  Running command git rev-parse -q --verify 'sha^ca232cb66106db6cac729defdab91aad9aecb15b'\n",
            "  Running command git fetch -q https://github.com/QuantuMobileSoftware/sentinel2tools.git ca232cb66106db6cac729defdab91aad9aecb15b\n",
            "  Resolved https://github.com/QuantuMobileSoftware/sentinel2tools.git to commit ca232cb66106db6cac729defdab91aad9aecb15b\n",
            "  Preparing metadata (setup.py) ... \u001b[?25l\u001b[?25hdone\n",
            "Collecting google-cloud-storage==1.32.0 (from sentinel2tools==1.1)\n",
            "  Downloading google_cloud_storage-1.32.0-py2.py3-none-any.whl.metadata (4.7 kB)\n",
            "Collecting geopandas==0.8.1 (from sentinel2tools==1.1)\n",
            "  Downloading geopandas-0.8.1-py2.py3-none-any.whl.metadata (892 bytes)\n",
            "Collecting Rtree==0.9.4 (from sentinel2tools==1.1)\n",
            "  Downloading Rtree-0.9.4.tar.gz (62 kB)\n",
            "\u001b[2K     \u001b[90m━━━━━━━━━━━━━━━━━━━━━━━━━━━━━━━━━━━━━━━━\u001b[0m \u001b[32m62.0/62.0 kB\u001b[0m \u001b[31m4.7 MB/s\u001b[0m eta \u001b[36m0:00:00\u001b[0m\n",
            "\u001b[?25h  \u001b[1;31merror\u001b[0m: \u001b[1msubprocess-exited-with-error\u001b[0m\n",
            "  \n",
            "  \u001b[31m×\u001b[0m \u001b[32mpython setup.py egg_info\u001b[0m did not run successfully.\n",
            "  \u001b[31m│\u001b[0m exit code: \u001b[1;36m1\u001b[0m\n",
            "  \u001b[31m╰─>\u001b[0m See above for output.\n",
            "  \n",
            "  \u001b[1;35mnote\u001b[0m: This error originates from a subprocess, and is likely not a problem with pip.\n",
            "  Preparing metadata (setup.py) ... \u001b[?25l\u001b[?25herror\n",
            "\u001b[1;31merror\u001b[0m: \u001b[1mmetadata-generation-failed\u001b[0m\n",
            "\n",
            "\u001b[31m×\u001b[0m Encountered error while generating package metadata.\n",
            "\u001b[31m╰─>\u001b[0m See above for output.\n",
            "\n",
            "\u001b[1;35mnote\u001b[0m: This is an issue with the package mentioned above, not pip.\n",
            "\u001b[1;36mhint\u001b[0m: See above for details.\n"
          ]
        }
      ]
    },
    {
      "cell_type": "markdown",
      "source": [
        "Honestly i couldn't figure that issue out (i didn't try hard) so i will adjusted that code for myself."
      ],
      "metadata": {
        "id": "P5KCe3TMC_X3"
      }
    },
    {
      "cell_type": "code",
      "source": [
        "!git clone https://github.com/sskyisthelimit/DS_Internship.git"
      ],
      "metadata": {
        "id": "9a19_8SQDKqa",
        "colab": {
          "base_uri": "https://localhost:8080/"
        },
        "outputId": "5ccd9f4b-6d5a-43cc-a9e3-99d3ce30f336"
      },
      "execution_count": 2,
      "outputs": [
        {
          "output_type": "stream",
          "name": "stdout",
          "text": [
            "Cloning into 'DS_Internship'...\n",
            "remote: Enumerating objects: 66, done.\u001b[K\n",
            "remote: Counting objects:   1% (1/66)\u001b[K\rremote: Counting objects:   3% (2/66)\u001b[K\rremote: Counting objects:   4% (3/66)\u001b[K\rremote: Counting objects:   6% (4/66)\u001b[K\rremote: Counting objects:   7% (5/66)\u001b[K\rremote: Counting objects:   9% (6/66)\u001b[K\rremote: Counting objects:  10% (7/66)\u001b[K\rremote: Counting objects:  12% (8/66)\u001b[K\rremote: Counting objects:  13% (9/66)\u001b[K\rremote: Counting objects:  15% (10/66)\u001b[K\rremote: Counting objects:  16% (11/66)\u001b[K\rremote: Counting objects:  18% (12/66)\u001b[K\rremote: Counting objects:  19% (13/66)\u001b[K\rremote: Counting objects:  21% (14/66)\u001b[K\rremote: Counting objects:  22% (15/66)\u001b[K\rremote: Counting objects:  24% (16/66)\u001b[K\rremote: Counting objects:  25% (17/66)\u001b[K\rremote: Counting objects:  27% (18/66)\u001b[K\rremote: Counting objects:  28% (19/66)\u001b[K\rremote: Counting objects:  30% (20/66)\u001b[K\rremote: Counting objects:  31% (21/66)\u001b[K\rremote: Counting objects:  33% (22/66)\u001b[K\rremote: Counting objects:  34% (23/66)\u001b[K\rremote: Counting objects:  36% (24/66)\u001b[K\rremote: Counting objects:  37% (25/66)\u001b[K\rremote: Counting objects:  39% (26/66)\u001b[K\rremote: Counting objects:  40% (27/66)\u001b[K\rremote: Counting objects:  42% (28/66)\u001b[K\rremote: Counting objects:  43% (29/66)\u001b[K\rremote: Counting objects:  45% (30/66)\u001b[K\rremote: Counting objects:  46% (31/66)\u001b[K\rremote: Counting objects:  48% (32/66)\u001b[K\rremote: Counting objects:  50% (33/66)\u001b[K\rremote: Counting objects:  51% (34/66)\u001b[K\rremote: Counting objects:  53% (35/66)\u001b[K\rremote: Counting objects:  54% (36/66)\u001b[K\rremote: Counting objects:  56% (37/66)\u001b[K\rremote: Counting objects:  57% (38/66)\u001b[K\rremote: Counting objects:  59% (39/66)\u001b[K\rremote: Counting objects:  60% (40/66)\u001b[K\rremote: Counting objects:  62% (41/66)\u001b[K\rremote: Counting objects:  63% (42/66)\u001b[K\rremote: Counting objects:  65% (43/66)\u001b[K\rremote: Counting objects:  66% (44/66)\u001b[K\rremote: Counting objects:  68% (45/66)\u001b[K\rremote: Counting objects:  69% (46/66)\u001b[K\rremote: Counting objects:  71% (47/66)\u001b[K\rremote: Counting objects:  72% (48/66)\u001b[K\rremote: Counting objects:  74% (49/66)\u001b[K\rremote: Counting objects:  75% (50/66)\u001b[K\rremote: Counting objects:  77% (51/66)\u001b[K\rremote: Counting objects:  78% (52/66)\u001b[K\rremote: Counting objects:  80% (53/66)\u001b[K\rremote: Counting objects:  81% (54/66)\u001b[K\rremote: Counting objects:  83% (55/66)\u001b[K\rremote: Counting objects:  84% (56/66)\u001b[K\rremote: Counting objects:  86% (57/66)\u001b[K\rremote: Counting objects:  87% (58/66)\u001b[K\rremote: Counting objects:  89% (59/66)\u001b[K\rremote: Counting objects:  90% (60/66)\u001b[K\rremote: Counting objects:  92% (61/66)\u001b[K\rremote: Counting objects:  93% (62/66)\u001b[K\rremote: Counting objects:  95% (63/66)\u001b[K\rremote: Counting objects:  96% (64/66)\u001b[K\rremote: Counting objects:  98% (65/66)\u001b[K\rremote: Counting objects: 100% (66/66)\u001b[K\rremote: Counting objects: 100% (66/66), done.\u001b[K\n",
            "remote: Compressing objects: 100% (45/45), done.\u001b[K\n",
            "remote: Total 66 (delta 13), reused 66 (delta 13), pack-reused 0 (from 0)\u001b[K\n",
            "Receiving objects: 100% (66/66), 6.30 MiB | 21.31 MiB/s, done.\n",
            "Resolving deltas: 100% (13/13), done.\n"
          ]
        }
      ]
    },
    {
      "cell_type": "code",
      "source": [
        "%cd DS_Internship/CV/src/"
      ],
      "metadata": {
        "colab": {
          "base_uri": "https://localhost:8080/"
        },
        "id": "xo3pihmzWB1R",
        "outputId": "e06f034d-9744-42c2-dc68-d9f492866cb5"
      },
      "execution_count": 3,
      "outputs": [
        {
          "output_type": "stream",
          "name": "stdout",
          "text": [
            "/content/DS_Internship/CV/src\n"
          ]
        }
      ]
    },
    {
      "cell_type": "code",
      "source": [
        "from utils import Sentinel2Downloader\n",
        "API_KEY = \"/content/drive/MyDrive/Datasets/MATCHING/image-matching-key.json\""
      ],
      "metadata": {
        "id": "It-yhvZ-WN1d"
      },
      "execution_count": 4,
      "outputs": []
    },
    {
      "cell_type": "code",
      "source": [
        "CONSTRAINTS = {'NODATA_PIXEL_PERCENTAGE': 15.0,\n",
        "               'CLOUDY_PIXEL_PERCENTAGE': 10.0, }\n",
        "\n",
        "loader = Sentinel2Downloader(api_key=API_KEY)\n",
        "\n",
        "loaded = loader.download(product_type=\"L2A\",\n",
        "                        tiles=[\"36UXA\"],\n",
        "                        start_date=\"2019-12-01\",\n",
        "                        end_date=\"2020-12-01\",\n",
        "                        output_dir=\"/content/sentinel2imagery\",\n",
        "                        bands=set([\"TCI\"]),\n",
        "                        cores=4,\n",
        "                        constraints=CONSTRAINTS)"
      ],
      "metadata": {
        "id": "MptOBgsVFWNB"
      },
      "execution_count": 5,
      "outputs": []
    },
    {
      "cell_type": "code",
      "source": [
        "import os\n",
        "\n",
        "images_num = 0\n",
        "image_names_dict = {}\n",
        "\n",
        "for dirname, _, filenames in os.walk('/content/sentinel2imagery'):\n",
        "    for filename in filenames:\n",
        "        if filename.endswith('_TCI_10m.jp2'):\n",
        "            images_num += 1\n",
        "            if dirname not in image_names_dict:\n",
        "                image_names_dict[dirname] = list()\n",
        "            image_names_dict[dirname].append(filename)\n",
        "\n",
        "print(images_num)\n",
        "print(len([*image_names_dict]))"
      ],
      "metadata": {
        "colab": {
          "base_uri": "https://localhost:8080/"
        },
        "id": "XGFRKPiRNLNM",
        "outputId": "904df0f2-85f8-4064-bfd4-6dd9fc3b3506"
      },
      "execution_count": 6,
      "outputs": [
        {
          "output_type": "stream",
          "name": "stdout",
          "text": [
            "27\n",
            "27\n"
          ]
        }
      ]
    },
    {
      "cell_type": "code",
      "source": [
        "import shutil\n",
        "shutil.make_archive(\"/content/sentinel2_test_set\", \"zip\", \"/content/sentinel2imagery/\")"
      ],
      "metadata": {
        "colab": {
          "base_uri": "https://localhost:8080/",
          "height": 35
        },
        "id": "yKF99UVwSfSo",
        "outputId": "658dc812-859c-4af8-f816-b3721e40ffe3"
      },
      "execution_count": 7,
      "outputs": [
        {
          "output_type": "execute_result",
          "data": {
            "text/plain": [
              "'/content/sentinel2_test_set.zip'"
            ],
            "application/vnd.google.colaboratory.intrinsic+json": {
              "type": "string"
            }
          },
          "metadata": {},
          "execution_count": 7
        }
      ]
    }
  ]
}