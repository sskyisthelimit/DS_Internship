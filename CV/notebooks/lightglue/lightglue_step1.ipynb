{
 "cells": [
  {
   "cell_type": "markdown",
   "metadata": {},
   "source": [
    "notebook that does pre-training LightGlue on the homography dataset"
   ]
  },
  {
   "cell_type": "code",
   "execution_count": null,
   "metadata": {
    "_cell_guid": "b1076dfc-b9ad-4769-8c92-a6c4dae69d19",
    "_uuid": "8f2839f25d086af736a60e9eeb907d3b93b6e0e5",
    "execution": {
     "iopub.execute_input": "2025-01-15T08:02:07.306178Z",
     "iopub.status.busy": "2025-01-15T08:02:07.305916Z",
     "iopub.status.idle": "2025-01-15T08:02:08.137661Z",
     "shell.execute_reply": "2025-01-15T08:02:08.136728Z",
     "shell.execute_reply.started": "2025-01-15T08:02:07.306149Z"
    },
    "trusted": true
   },
   "outputs": [],
   "source": [
    "!git clone https://github.com/sskyisthelimit/glue-factory.git"
   ]
  },
  {
   "cell_type": "code",
   "execution_count": null,
   "metadata": {
    "execution": {
     "iopub.execute_input": "2025-01-15T08:02:08.139107Z",
     "iopub.status.busy": "2025-01-15T08:02:08.138793Z",
     "iopub.status.idle": "2025-01-15T08:02:08.145038Z",
     "shell.execute_reply": "2025-01-15T08:02:08.144323Z",
     "shell.execute_reply.started": "2025-01-15T08:02:08.139068Z"
    },
    "trusted": true
   },
   "outputs": [],
   "source": [
    "cd glue-factory"
   ]
  },
  {
   "cell_type": "code",
   "execution_count": null,
   "metadata": {
    "execution": {
     "iopub.execute_input": "2025-01-15T08:02:08.146289Z",
     "iopub.status.busy": "2025-01-15T08:02:08.145965Z",
     "iopub.status.idle": "2025-01-15T08:02:24.970139Z",
     "shell.execute_reply": "2025-01-15T08:02:24.969284Z",
     "shell.execute_reply.started": "2025-01-15T08:02:08.146258Z"
    },
    "trusted": true
   },
   "outputs": [],
   "source": [
    "!python3 -m pip install -e ."
   ]
  },
  {
   "cell_type": "code",
   "execution_count": null,
   "metadata": {
    "execution": {
     "iopub.execute_input": "2025-01-15T08:02:24.972483Z",
     "iopub.status.busy": "2025-01-15T08:02:24.972240Z",
     "iopub.status.idle": "2025-01-15T08:02:25.183688Z",
     "shell.execute_reply": "2025-01-15T08:02:25.183011Z",
     "shell.execute_reply.started": "2025-01-15T08:02:24.972464Z"
    },
    "trusted": true
   },
   "outputs": [],
   "source": [
    "import shutil\n",
    "source = \"/kaggle/input/notebookc384304bc6/logs/superpoint_coco/checkpoints/superPointNet_18500_checkpoint.pth.tar\"\n",
    "dest = \"/kaggle/working/checkpoint.pth.tar\"\n",
    "shutil.copy(source, dest)"
   ]
  },
  {
   "cell_type": "code",
   "execution_count": null,
   "metadata": {
    "execution": {
     "iopub.execute_input": "2025-01-15T08:07:23.303387Z",
     "iopub.status.busy": "2025-01-15T08:07:23.303091Z",
     "iopub.status.idle": "2025-01-15T08:07:23.307705Z",
     "shell.execute_reply": "2025-01-15T08:07:23.306740Z",
     "shell.execute_reply.started": "2025-01-15T08:07:23.303365Z"
    },
    "trusted": true
   },
   "outputs": [],
   "source": [
    "import os\n",
    "os.environ[\"NO_ALBUMENTATIONS_UPDATE\"] = \"1\""
   ]
  },
  {
   "cell_type": "code",
   "execution_count": null,
   "metadata": {
    "execution": {
     "iopub.execute_input": "2025-01-15T08:07:25.223845Z",
     "iopub.status.busy": "2025-01-15T08:07:25.223513Z",
     "iopub.status.idle": "2025-01-15T08:08:06.416529Z",
     "shell.execute_reply": "2025-01-15T08:08:06.415452Z",
     "shell.execute_reply.started": "2025-01-15T08:07:25.223818Z"
    },
    "trusted": true
   },
   "outputs": [],
   "source": [
    "!python -m gluefactory.train sp+lg_homography --conf gluefactory/configs/superpoint+lightglue_homography.yaml"
   ]
  }
 ],
 "metadata": {
  "kaggle": {
   "accelerator": "gpu",
   "dataSources": [
    {
     "datasetId": 6314610,
     "sourceId": 10215952,
     "sourceType": "datasetVersion"
    },
    {
     "sourceId": 217083356,
     "sourceType": "kernelVersion"
    }
   ],
   "dockerImageVersionId": 30840,
   "isGpuEnabled": true,
   "isInternetEnabled": true,
   "language": "python",
   "sourceType": "notebook"
  },
  "kernelspec": {
   "display_name": "Python 3",
   "language": "python",
   "name": "python3"
  },
  "language_info": {
   "codemirror_mode": {
    "name": "ipython",
    "version": 3
   },
   "file_extension": ".py",
   "mimetype": "text/x-python",
   "name": "python",
   "nbconvert_exporter": "python",
   "pygments_lexer": "ipython3",
   "version": "3.10.12"
  }
 },
 "nbformat": 4,
 "nbformat_minor": 4
}
