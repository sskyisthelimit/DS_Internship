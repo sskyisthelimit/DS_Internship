{
 "cells": [
  {
   "cell_type": "code",
   "execution_count": null,
   "metadata": {
    "_cell_guid": "b1076dfc-b9ad-4769-8c92-a6c4dae69d19",
    "_uuid": "8f2839f25d086af736a60e9eeb907d3b93b6e0e5",
    "execution": {
     "iopub.execute_input": "2024-12-22T15:46:23.722211Z",
     "iopub.status.busy": "2024-12-22T15:46:23.721882Z",
     "iopub.status.idle": "2024-12-22T15:46:24.512077Z",
     "shell.execute_reply": "2024-12-22T15:46:24.511237Z",
     "shell.execute_reply.started": "2024-12-22T15:46:23.722172Z"
    },
    "trusted": true
   },
   "outputs": [],
   "source": [
    "!git clone https://github.com/sskyisthelimit/glue-factory.git"
   ]
  },
  {
   "cell_type": "code",
   "execution_count": null,
   "metadata": {
    "execution": {
     "iopub.execute_input": "2024-12-22T15:46:24.513507Z",
     "iopub.status.busy": "2024-12-22T15:46:24.513211Z",
     "iopub.status.idle": "2024-12-22T15:46:24.519461Z",
     "shell.execute_reply": "2024-12-22T15:46:24.518801Z",
     "shell.execute_reply.started": "2024-12-22T15:46:24.513485Z"
    },
    "trusted": true
   },
   "outputs": [],
   "source": [
    "cd glue-factory"
   ]
  },
  {
   "cell_type": "code",
   "execution_count": null,
   "metadata": {
    "execution": {
     "iopub.execute_input": "2024-12-22T15:46:24.521410Z",
     "iopub.status.busy": "2024-12-22T15:46:24.521121Z",
     "iopub.status.idle": "2024-12-22T15:46:40.775129Z",
     "shell.execute_reply": "2024-12-22T15:46:40.774050Z",
     "shell.execute_reply.started": "2024-12-22T15:46:24.521390Z"
    },
    "trusted": true
   },
   "outputs": [],
   "source": [
    "!python3 -m pip install -e ."
   ]
  },
  {
   "cell_type": "code",
   "execution_count": null,
   "metadata": {
    "execution": {
     "execution_failed": "2024-12-22T15:51:59.730Z",
     "iopub.execute_input": "2024-12-22T15:46:40.776552Z",
     "iopub.status.busy": "2024-12-22T15:46:40.776300Z"
    },
    "trusted": true
   },
   "outputs": [],
   "source": [
    "!python -m gluefactory.train sp+lg_homography --conf gluefactory/configs/superpoint+lightglue_homography.yaml"
   ]
  }
 ],
 "metadata": {
  "language_info": {
   "name": "python"
  }
 },
 "nbformat": 4,
 "nbformat_minor": 2
}
