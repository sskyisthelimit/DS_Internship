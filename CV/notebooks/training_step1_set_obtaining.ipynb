{
  "cells": [
    {
      "cell_type": "code",
      "source": [
        "from google.colab import drive\n",
        "drive.mount('/content/drive')"
      ],
      "metadata": {
        "id": "B80q6k4jZHV7"
      },
      "execution_count": null,
      "outputs": []
    },
    {
      "cell_type": "code",
      "execution_count": null,
      "metadata": {
        "id": "9a19_8SQDKqa"
      },
      "outputs": [],
      "source": [
        "!git clone https://github.com/sskyisthelimit/DS_Internship.git"
      ]
    },
    {
      "cell_type": "code",
      "execution_count": null,
      "metadata": {
        "id": "xo3pihmzWB1R"
      },
      "outputs": [],
      "source": [
        "%cd DS_Internship/CV/src/"
      ]
    },
    {
      "cell_type": "code",
      "execution_count": null,
      "metadata": {
        "id": "It-yhvZ-WN1d"
      },
      "outputs": [],
      "source": [
        "from utils import Sentinel2Downloader, load_torch_image, split_image_and_save\n",
        "API_KEY = \"/content/drive/MyDrive/Datasets/MATCHING/image-matching-key.json\""
      ]
    },
    {
      "cell_type": "code",
      "execution_count": null,
      "metadata": {
        "id": "MptOBgsVFWNB"
      },
      "outputs": [],
      "source": [
        "CONSTRAINTS = {'NODATA_PIXEL_PERCENTAGE': 15.0,\n",
        "               'CLOUDY_PIXEL_PERCENTAGE': 10.0, }\n",
        "\n",
        "loader = Sentinel2Downloader(api_key=API_KEY)\n",
        "\n",
        "loaded = loader.download(product_type=\"L2A\",\n",
        "                        tiles=[\"36TVS\"],\n",
        "                        start_date=\"2018-12-01\",\n",
        "                        end_date=\"2021-12-01\",\n",
        "                        output_dir=\"/content/sentinel2imagery\",\n",
        "                        bands=set([\"TCI\"]),\n",
        "                        cores=4,\n",
        "                        constraints=CONSTRAINTS)"
      ]
    },
    {
      "cell_type": "code",
      "execution_count": null,
      "metadata": {
        "id": "XGFRKPiRNLNM"
      },
      "outputs": [],
      "source": [
        "import os\n",
        "\n",
        "images_num = 0\n",
        "image_names_dict = {}\n",
        "\n",
        "for dirname, _, filenames in os.walk('/content/sentinel2imagery'):\n",
        "    for filename in filenames:\n",
        "        if filename.endswith('_TCI_10m.jp2'):\n",
        "            images_num += 1\n",
        "            if dirname not in image_names_dict:\n",
        "                image_names_dict[dirname] = list()\n",
        "            image_names_dict[dirname].append(filename)\n",
        "\n",
        "print(images_num)\n",
        "print(len([*image_names_dict]))"
      ]
    },
    {
      "cell_type": "code",
      "execution_count": null,
      "metadata": {
        "id": "-5oDmbgcxOZ1"
      },
      "outputs": [],
      "source": [
        "import os\n",
        "val_filenames = [\"/content/sentinel2imagery/S2A_MSIL2A_20200115T085311_N0213_R107_T36TVS_20200115T102431/T36TVS_20200115T085311_TCI_10m.jp2\",\n",
        "                 \"/content/sentinel2imagery/S2A_MSIL2A_20190808T084601_N0213_R107_T36TVS_20190808T120658/T36TVS_20190808T084601_TCI_10m.jp2\",\n",
        "                 \"/content/sentinel2imagery/S2A_MSIL2A_20190420T084601_N0211_R107_T36TVS_20190420T112440/T36TVS_20190420T084601_TCI_10m.jp2\",\n",
        "                 \"/content/sentinel2imagery/S2A_MSIL2A_20191017T084941_N0213_R107_T36TVS_20191017T115536/T36TVS_20191017T084941_TCI_10m.jp2\"]\n",
        "\n",
        "test_filenames = [\"/content/sentinel2imagery/S2B_MSIL2A_20211110T085109_N0301_R107_T36TVS_20211110T103058/T36TVS_20211110T085109_TCI_10m.jp2\",\n",
        "                  \"/content/sentinel2imagery/S2B_MSIL2A_20200817T084559_N0214_R107_T36TVS_20200817T112210/T36TVS_20200817T084559_TCI_10m.jp2\",\n",
        "                  \"/content/sentinel2imagery/S2B_MSIL2A_20200409T084559_N0214_R107_T36TVS_20200409T120319/T36TVS_20200409T084559_TCI_10m.jp2\",\n",
        "                  \"/content/sentinel2imagery/S2B_MSIL2A_20190224T084939_N0211_R107_T36TVS_20190224T131744/T36TVS_20190224T084939_TCI_10m.jp2\"]\n",
        "crop_height = 480\n",
        "crop_width = 640\n",
        "\n",
        "dataset_dir = \"/content/first_step_dataset\"\n",
        "os.makedirs(dataset_dir, exist_ok=True)\n",
        "\n",
        "train_dir = os.path.join(dataset_dir, \"train\")\n",
        "val_dir = os.path.join(dataset_dir, \"val\")\n",
        "test_dir = os.path.join(dataset_dir, \"test\")\n",
        "\n",
        "os.makedirs(train_dir, exist_ok=True)\n",
        "os.makedirs(val_dir, exist_ok=True)\n",
        "os.makedirs(test_dir, exist_ok=True)\n",
        "\n",
        "for dirname, _, filenames in os.walk('/content/sentinel2imagery'):\n",
        "    for filename in filenames:\n",
        "        if filename.endswith('_TCI_10m.jp2'):\n",
        "          basename = os.path.basename(filename)[:-4]\n",
        "          tilepath = os.path.join(dirname, filename)\n",
        "\n",
        "          if tilepath in val_filenames:\n",
        "            save_path = os.path.join(val_dir, basename)\n",
        "          elif tilepath in test_filenames:\n",
        "            save_path = os.path.join(test_dir, basename)\n",
        "          else:\n",
        "            save_path = os.path.join(train_dir, basename)\n",
        "\n",
        "\n",
        "          image = load_torch_image(tilepath)\n",
        "\n",
        "          split_image_and_save(\n",
        "              image=image,\n",
        "              crop_h=crop_height,\n",
        "              crop_w=crop_width,\n",
        "              save_crops=True,\n",
        "              saving_path=save_path)\n",
        "\n",
        "\n"
      ]
    },
    {
      "cell_type": "code",
      "execution_count": null,
      "metadata": {
        "id": "nr4PAVmC4vTS"
      },
      "outputs": [],
      "source": [
        "import shutil\n",
        "shutil.make_archive(\"/content/first_step_dataset\", \"zip\", \"/content/first_step_dataset/\")"
      ]
    }
  ],
  "metadata": {
    "colab": {
      "provenance": []
    },
    "kernelspec": {
      "display_name": "Python 3",
      "name": "python3"
    },
    "language_info": {
      "name": "python"
    }
  },
  "nbformat": 4,
  "nbformat_minor": 0
}